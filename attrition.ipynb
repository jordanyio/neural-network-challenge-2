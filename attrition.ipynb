{
  "cells": [
    {
      "cell_type": "markdown",
      "metadata": {
        "id": "alIIEHibGc3M"
      },
      "source": [
        "## Part 1: Preprocessing"
      ]
    },
    {
      "cell_type": "code",
      "execution_count": 79,
      "metadata": {
        "colab": {
          "base_uri": "https://localhost:8080/",
          "height": 325
        },
        "id": "6eDUJ4NtGc3P",
        "outputId": "0a4789a3-5235-4adf-c9b0-b73b4d8ad7d7"
      },
      "outputs": [
        {
          "output_type": "execute_result",
          "data": {
            "text/plain": [
              "   Age Attrition     BusinessTravel              Department  DistanceFromHome  \\\n",
              "0   41       Yes      Travel_Rarely                   Sales                 1   \n",
              "1   49        No  Travel_Frequently  Research & Development                 8   \n",
              "2   37       Yes      Travel_Rarely  Research & Development                 2   \n",
              "3   33        No  Travel_Frequently  Research & Development                 3   \n",
              "4   27        No      Travel_Rarely  Research & Development                 2   \n",
              "\n",
              "   Education EducationField  EnvironmentSatisfaction  HourlyRate  \\\n",
              "0          2  Life Sciences                        2          94   \n",
              "1          1  Life Sciences                        3          61   \n",
              "2          2          Other                        4          92   \n",
              "3          4  Life Sciences                        4          56   \n",
              "4          1        Medical                        1          40   \n",
              "\n",
              "   JobInvolvement  ...  PerformanceRating RelationshipSatisfaction  \\\n",
              "0               3  ...                  3                        1   \n",
              "1               2  ...                  4                        4   \n",
              "2               2  ...                  3                        2   \n",
              "3               3  ...                  3                        3   \n",
              "4               3  ...                  3                        4   \n",
              "\n",
              "   StockOptionLevel TotalWorkingYears  TrainingTimesLastYear WorkLifeBalance  \\\n",
              "0                 0                 8                      0               1   \n",
              "1                 1                10                      3               3   \n",
              "2                 0                 7                      3               3   \n",
              "3                 0                 8                      3               3   \n",
              "4                 1                 6                      3               3   \n",
              "\n",
              "   YearsAtCompany  YearsInCurrentRole  YearsSinceLastPromotion  \\\n",
              "0               6                   4                        0   \n",
              "1              10                   7                        1   \n",
              "2               0                   0                        0   \n",
              "3               8                   7                        3   \n",
              "4               2                   2                        2   \n",
              "\n",
              "   YearsWithCurrManager  \n",
              "0                     5  \n",
              "1                     7  \n",
              "2                     0  \n",
              "3                     0  \n",
              "4                     2  \n",
              "\n",
              "[5 rows x 27 columns]"
            ],
            "text/html": [
              "\n",
              "  <div id=\"df-553ed039-7e68-4c8b-b0fa-9061507c22e4\" class=\"colab-df-container\">\n",
              "    <div>\n",
              "<style scoped>\n",
              "    .dataframe tbody tr th:only-of-type {\n",
              "        vertical-align: middle;\n",
              "    }\n",
              "\n",
              "    .dataframe tbody tr th {\n",
              "        vertical-align: top;\n",
              "    }\n",
              "\n",
              "    .dataframe thead th {\n",
              "        text-align: right;\n",
              "    }\n",
              "</style>\n",
              "<table border=\"1\" class=\"dataframe\">\n",
              "  <thead>\n",
              "    <tr style=\"text-align: right;\">\n",
              "      <th></th>\n",
              "      <th>Age</th>\n",
              "      <th>Attrition</th>\n",
              "      <th>BusinessTravel</th>\n",
              "      <th>Department</th>\n",
              "      <th>DistanceFromHome</th>\n",
              "      <th>Education</th>\n",
              "      <th>EducationField</th>\n",
              "      <th>EnvironmentSatisfaction</th>\n",
              "      <th>HourlyRate</th>\n",
              "      <th>JobInvolvement</th>\n",
              "      <th>...</th>\n",
              "      <th>PerformanceRating</th>\n",
              "      <th>RelationshipSatisfaction</th>\n",
              "      <th>StockOptionLevel</th>\n",
              "      <th>TotalWorkingYears</th>\n",
              "      <th>TrainingTimesLastYear</th>\n",
              "      <th>WorkLifeBalance</th>\n",
              "      <th>YearsAtCompany</th>\n",
              "      <th>YearsInCurrentRole</th>\n",
              "      <th>YearsSinceLastPromotion</th>\n",
              "      <th>YearsWithCurrManager</th>\n",
              "    </tr>\n",
              "  </thead>\n",
              "  <tbody>\n",
              "    <tr>\n",
              "      <th>0</th>\n",
              "      <td>41</td>\n",
              "      <td>Yes</td>\n",
              "      <td>Travel_Rarely</td>\n",
              "      <td>Sales</td>\n",
              "      <td>1</td>\n",
              "      <td>2</td>\n",
              "      <td>Life Sciences</td>\n",
              "      <td>2</td>\n",
              "      <td>94</td>\n",
              "      <td>3</td>\n",
              "      <td>...</td>\n",
              "      <td>3</td>\n",
              "      <td>1</td>\n",
              "      <td>0</td>\n",
              "      <td>8</td>\n",
              "      <td>0</td>\n",
              "      <td>1</td>\n",
              "      <td>6</td>\n",
              "      <td>4</td>\n",
              "      <td>0</td>\n",
              "      <td>5</td>\n",
              "    </tr>\n",
              "    <tr>\n",
              "      <th>1</th>\n",
              "      <td>49</td>\n",
              "      <td>No</td>\n",
              "      <td>Travel_Frequently</td>\n",
              "      <td>Research &amp; Development</td>\n",
              "      <td>8</td>\n",
              "      <td>1</td>\n",
              "      <td>Life Sciences</td>\n",
              "      <td>3</td>\n",
              "      <td>61</td>\n",
              "      <td>2</td>\n",
              "      <td>...</td>\n",
              "      <td>4</td>\n",
              "      <td>4</td>\n",
              "      <td>1</td>\n",
              "      <td>10</td>\n",
              "      <td>3</td>\n",
              "      <td>3</td>\n",
              "      <td>10</td>\n",
              "      <td>7</td>\n",
              "      <td>1</td>\n",
              "      <td>7</td>\n",
              "    </tr>\n",
              "    <tr>\n",
              "      <th>2</th>\n",
              "      <td>37</td>\n",
              "      <td>Yes</td>\n",
              "      <td>Travel_Rarely</td>\n",
              "      <td>Research &amp; Development</td>\n",
              "      <td>2</td>\n",
              "      <td>2</td>\n",
              "      <td>Other</td>\n",
              "      <td>4</td>\n",
              "      <td>92</td>\n",
              "      <td>2</td>\n",
              "      <td>...</td>\n",
              "      <td>3</td>\n",
              "      <td>2</td>\n",
              "      <td>0</td>\n",
              "      <td>7</td>\n",
              "      <td>3</td>\n",
              "      <td>3</td>\n",
              "      <td>0</td>\n",
              "      <td>0</td>\n",
              "      <td>0</td>\n",
              "      <td>0</td>\n",
              "    </tr>\n",
              "    <tr>\n",
              "      <th>3</th>\n",
              "      <td>33</td>\n",
              "      <td>No</td>\n",
              "      <td>Travel_Frequently</td>\n",
              "      <td>Research &amp; Development</td>\n",
              "      <td>3</td>\n",
              "      <td>4</td>\n",
              "      <td>Life Sciences</td>\n",
              "      <td>4</td>\n",
              "      <td>56</td>\n",
              "      <td>3</td>\n",
              "      <td>...</td>\n",
              "      <td>3</td>\n",
              "      <td>3</td>\n",
              "      <td>0</td>\n",
              "      <td>8</td>\n",
              "      <td>3</td>\n",
              "      <td>3</td>\n",
              "      <td>8</td>\n",
              "      <td>7</td>\n",
              "      <td>3</td>\n",
              "      <td>0</td>\n",
              "    </tr>\n",
              "    <tr>\n",
              "      <th>4</th>\n",
              "      <td>27</td>\n",
              "      <td>No</td>\n",
              "      <td>Travel_Rarely</td>\n",
              "      <td>Research &amp; Development</td>\n",
              "      <td>2</td>\n",
              "      <td>1</td>\n",
              "      <td>Medical</td>\n",
              "      <td>1</td>\n",
              "      <td>40</td>\n",
              "      <td>3</td>\n",
              "      <td>...</td>\n",
              "      <td>3</td>\n",
              "      <td>4</td>\n",
              "      <td>1</td>\n",
              "      <td>6</td>\n",
              "      <td>3</td>\n",
              "      <td>3</td>\n",
              "      <td>2</td>\n",
              "      <td>2</td>\n",
              "      <td>2</td>\n",
              "      <td>2</td>\n",
              "    </tr>\n",
              "  </tbody>\n",
              "</table>\n",
              "<p>5 rows × 27 columns</p>\n",
              "</div>\n",
              "    <div class=\"colab-df-buttons\">\n",
              "\n",
              "  <div class=\"colab-df-container\">\n",
              "    <button class=\"colab-df-convert\" onclick=\"convertToInteractive('df-553ed039-7e68-4c8b-b0fa-9061507c22e4')\"\n",
              "            title=\"Convert this dataframe to an interactive table.\"\n",
              "            style=\"display:none;\">\n",
              "\n",
              "  <svg xmlns=\"http://www.w3.org/2000/svg\" height=\"24px\" viewBox=\"0 -960 960 960\">\n",
              "    <path d=\"M120-120v-720h720v720H120Zm60-500h600v-160H180v160Zm220 220h160v-160H400v160Zm0 220h160v-160H400v160ZM180-400h160v-160H180v160Zm440 0h160v-160H620v160ZM180-180h160v-160H180v160Zm440 0h160v-160H620v160Z\"/>\n",
              "  </svg>\n",
              "    </button>\n",
              "\n",
              "  <style>\n",
              "    .colab-df-container {\n",
              "      display:flex;\n",
              "      gap: 12px;\n",
              "    }\n",
              "\n",
              "    .colab-df-convert {\n",
              "      background-color: #E8F0FE;\n",
              "      border: none;\n",
              "      border-radius: 50%;\n",
              "      cursor: pointer;\n",
              "      display: none;\n",
              "      fill: #1967D2;\n",
              "      height: 32px;\n",
              "      padding: 0 0 0 0;\n",
              "      width: 32px;\n",
              "    }\n",
              "\n",
              "    .colab-df-convert:hover {\n",
              "      background-color: #E2EBFA;\n",
              "      box-shadow: 0px 1px 2px rgba(60, 64, 67, 0.3), 0px 1px 3px 1px rgba(60, 64, 67, 0.15);\n",
              "      fill: #174EA6;\n",
              "    }\n",
              "\n",
              "    .colab-df-buttons div {\n",
              "      margin-bottom: 4px;\n",
              "    }\n",
              "\n",
              "    [theme=dark] .colab-df-convert {\n",
              "      background-color: #3B4455;\n",
              "      fill: #D2E3FC;\n",
              "    }\n",
              "\n",
              "    [theme=dark] .colab-df-convert:hover {\n",
              "      background-color: #434B5C;\n",
              "      box-shadow: 0px 1px 3px 1px rgba(0, 0, 0, 0.15);\n",
              "      filter: drop-shadow(0px 1px 2px rgba(0, 0, 0, 0.3));\n",
              "      fill: #FFFFFF;\n",
              "    }\n",
              "  </style>\n",
              "\n",
              "    <script>\n",
              "      const buttonEl =\n",
              "        document.querySelector('#df-553ed039-7e68-4c8b-b0fa-9061507c22e4 button.colab-df-convert');\n",
              "      buttonEl.style.display =\n",
              "        google.colab.kernel.accessAllowed ? 'block' : 'none';\n",
              "\n",
              "      async function convertToInteractive(key) {\n",
              "        const element = document.querySelector('#df-553ed039-7e68-4c8b-b0fa-9061507c22e4');\n",
              "        const dataTable =\n",
              "          await google.colab.kernel.invokeFunction('convertToInteractive',\n",
              "                                                    [key], {});\n",
              "        if (!dataTable) return;\n",
              "\n",
              "        const docLinkHtml = 'Like what you see? Visit the ' +\n",
              "          '<a target=\"_blank\" href=https://colab.research.google.com/notebooks/data_table.ipynb>data table notebook</a>'\n",
              "          + ' to learn more about interactive tables.';\n",
              "        element.innerHTML = '';\n",
              "        dataTable['output_type'] = 'display_data';\n",
              "        await google.colab.output.renderOutput(dataTable, element);\n",
              "        const docLink = document.createElement('div');\n",
              "        docLink.innerHTML = docLinkHtml;\n",
              "        element.appendChild(docLink);\n",
              "      }\n",
              "    </script>\n",
              "  </div>\n",
              "\n",
              "\n",
              "<div id=\"df-b8062c27-4c2e-471a-8596-37970c38cae4\">\n",
              "  <button class=\"colab-df-quickchart\" onclick=\"quickchart('df-b8062c27-4c2e-471a-8596-37970c38cae4')\"\n",
              "            title=\"Suggest charts\"\n",
              "            style=\"display:none;\">\n",
              "\n",
              "<svg xmlns=\"http://www.w3.org/2000/svg\" height=\"24px\"viewBox=\"0 0 24 24\"\n",
              "     width=\"24px\">\n",
              "    <g>\n",
              "        <path d=\"M19 3H5c-1.1 0-2 .9-2 2v14c0 1.1.9 2 2 2h14c1.1 0 2-.9 2-2V5c0-1.1-.9-2-2-2zM9 17H7v-7h2v7zm4 0h-2V7h2v10zm4 0h-2v-4h2v4z\"/>\n",
              "    </g>\n",
              "</svg>\n",
              "  </button>\n",
              "\n",
              "<style>\n",
              "  .colab-df-quickchart {\n",
              "      --bg-color: #E8F0FE;\n",
              "      --fill-color: #1967D2;\n",
              "      --hover-bg-color: #E2EBFA;\n",
              "      --hover-fill-color: #174EA6;\n",
              "      --disabled-fill-color: #AAA;\n",
              "      --disabled-bg-color: #DDD;\n",
              "  }\n",
              "\n",
              "  [theme=dark] .colab-df-quickchart {\n",
              "      --bg-color: #3B4455;\n",
              "      --fill-color: #D2E3FC;\n",
              "      --hover-bg-color: #434B5C;\n",
              "      --hover-fill-color: #FFFFFF;\n",
              "      --disabled-bg-color: #3B4455;\n",
              "      --disabled-fill-color: #666;\n",
              "  }\n",
              "\n",
              "  .colab-df-quickchart {\n",
              "    background-color: var(--bg-color);\n",
              "    border: none;\n",
              "    border-radius: 50%;\n",
              "    cursor: pointer;\n",
              "    display: none;\n",
              "    fill: var(--fill-color);\n",
              "    height: 32px;\n",
              "    padding: 0;\n",
              "    width: 32px;\n",
              "  }\n",
              "\n",
              "  .colab-df-quickchart:hover {\n",
              "    background-color: var(--hover-bg-color);\n",
              "    box-shadow: 0 1px 2px rgba(60, 64, 67, 0.3), 0 1px 3px 1px rgba(60, 64, 67, 0.15);\n",
              "    fill: var(--button-hover-fill-color);\n",
              "  }\n",
              "\n",
              "  .colab-df-quickchart-complete:disabled,\n",
              "  .colab-df-quickchart-complete:disabled:hover {\n",
              "    background-color: var(--disabled-bg-color);\n",
              "    fill: var(--disabled-fill-color);\n",
              "    box-shadow: none;\n",
              "  }\n",
              "\n",
              "  .colab-df-spinner {\n",
              "    border: 2px solid var(--fill-color);\n",
              "    border-color: transparent;\n",
              "    border-bottom-color: var(--fill-color);\n",
              "    animation:\n",
              "      spin 1s steps(1) infinite;\n",
              "  }\n",
              "\n",
              "  @keyframes spin {\n",
              "    0% {\n",
              "      border-color: transparent;\n",
              "      border-bottom-color: var(--fill-color);\n",
              "      border-left-color: var(--fill-color);\n",
              "    }\n",
              "    20% {\n",
              "      border-color: transparent;\n",
              "      border-left-color: var(--fill-color);\n",
              "      border-top-color: var(--fill-color);\n",
              "    }\n",
              "    30% {\n",
              "      border-color: transparent;\n",
              "      border-left-color: var(--fill-color);\n",
              "      border-top-color: var(--fill-color);\n",
              "      border-right-color: var(--fill-color);\n",
              "    }\n",
              "    40% {\n",
              "      border-color: transparent;\n",
              "      border-right-color: var(--fill-color);\n",
              "      border-top-color: var(--fill-color);\n",
              "    }\n",
              "    60% {\n",
              "      border-color: transparent;\n",
              "      border-right-color: var(--fill-color);\n",
              "    }\n",
              "    80% {\n",
              "      border-color: transparent;\n",
              "      border-right-color: var(--fill-color);\n",
              "      border-bottom-color: var(--fill-color);\n",
              "    }\n",
              "    90% {\n",
              "      border-color: transparent;\n",
              "      border-bottom-color: var(--fill-color);\n",
              "    }\n",
              "  }\n",
              "</style>\n",
              "\n",
              "  <script>\n",
              "    async function quickchart(key) {\n",
              "      const quickchartButtonEl =\n",
              "        document.querySelector('#' + key + ' button');\n",
              "      quickchartButtonEl.disabled = true;  // To prevent multiple clicks.\n",
              "      quickchartButtonEl.classList.add('colab-df-spinner');\n",
              "      try {\n",
              "        const charts = await google.colab.kernel.invokeFunction(\n",
              "            'suggestCharts', [key], {});\n",
              "      } catch (error) {\n",
              "        console.error('Error during call to suggestCharts:', error);\n",
              "      }\n",
              "      quickchartButtonEl.classList.remove('colab-df-spinner');\n",
              "      quickchartButtonEl.classList.add('colab-df-quickchart-complete');\n",
              "    }\n",
              "    (() => {\n",
              "      let quickchartButtonEl =\n",
              "        document.querySelector('#df-b8062c27-4c2e-471a-8596-37970c38cae4 button');\n",
              "      quickchartButtonEl.style.display =\n",
              "        google.colab.kernel.accessAllowed ? 'block' : 'none';\n",
              "    })();\n",
              "  </script>\n",
              "</div>\n",
              "\n",
              "    </div>\n",
              "  </div>\n"
            ],
            "application/vnd.google.colaboratory.intrinsic+json": {
              "type": "dataframe",
              "variable_name": "attrition_df"
            }
          },
          "metadata": {},
          "execution_count": 79
        }
      ],
      "source": [
        "# Import our dependencies\n",
        "from sklearn.model_selection import train_test_split\n",
        "from sklearn.preprocessing import StandardScaler, OneHotEncoder\n",
        "import pandas as pd\n",
        "import numpy as np\n",
        "from tensorflow.keras.models import Model\n",
        "from tensorflow.keras import layers\n",
        "\n",
        "#  Import and read the attrition data\n",
        "attrition_df = pd.read_csv('https://static.bc-edx.com/ai/ail-v-1-0/m19/lms/datasets/attrition.csv')\n",
        "attrition_df.head()"
      ]
    },
    {
      "cell_type": "code",
      "execution_count": 54,
      "metadata": {
        "colab": {
          "base_uri": "https://localhost:8080/"
        },
        "id": "g22aQSY4Gc3Q",
        "outputId": "adb00d68-3414-4fd1-a68b-414a97fbbba3"
      },
      "outputs": [
        {
          "output_type": "execute_result",
          "data": {
            "text/plain": [
              "Age                         43\n",
              "Attrition                    2\n",
              "BusinessTravel               3\n",
              "Department                   3\n",
              "DistanceFromHome            29\n",
              "Education                    5\n",
              "EducationField               6\n",
              "EnvironmentSatisfaction      4\n",
              "HourlyRate                  71\n",
              "JobInvolvement               4\n",
              "JobLevel                     5\n",
              "JobRole                      9\n",
              "JobSatisfaction              4\n",
              "MaritalStatus                3\n",
              "NumCompaniesWorked          10\n",
              "OverTime                     2\n",
              "PercentSalaryHike           15\n",
              "PerformanceRating            2\n",
              "RelationshipSatisfaction     4\n",
              "StockOptionLevel             4\n",
              "TotalWorkingYears           40\n",
              "TrainingTimesLastYear        7\n",
              "WorkLifeBalance              4\n",
              "YearsAtCompany              37\n",
              "YearsInCurrentRole          19\n",
              "YearsSinceLastPromotion     16\n",
              "YearsWithCurrManager        18\n",
              "dtype: int64"
            ]
          },
          "metadata": {},
          "execution_count": 54
        }
      ],
      "source": [
        "# Determine the number of unique values in each column.\n",
        "attrition_df.nunique()"
      ]
    },
    {
      "cell_type": "code",
      "execution_count": 80,
      "metadata": {
        "id": "50vMgBEnJbfM"
      },
      "outputs": [],
      "source": [
        "# Create y_df with the Attrition and Department columns\n",
        "y_df = attrition_df[['Attrition', 'Department']]"
      ]
    },
    {
      "cell_type": "code",
      "execution_count": 56,
      "metadata": {
        "colab": {
          "base_uri": "https://localhost:8080/"
        },
        "id": "Virka0zLGc3R",
        "outputId": "c5350a53-7577-4566-ebe6-6df1f0d9ca01"
      },
      "outputs": [
        {
          "output_type": "execute_result",
          "data": {
            "text/plain": [
              "Age                        int64\n",
              "YearsAtCompany             int64\n",
              "TotalWorkingYears          int64\n",
              "HourlyRate                 int64\n",
              "DistanceFromHome           int64\n",
              "YearsInCurrentRole         int64\n",
              "YearsWithCurrManager       int64\n",
              "YearsWithCurrManager       int64\n",
              "YearsSinceLastPromotion    int64\n",
              "PercentSalaryHike          int64\n",
              "dtype: object"
            ]
          },
          "metadata": {},
          "execution_count": 56
        }
      ],
      "source": [
        "# Create a list of at least 10 column names to use as X data\n",
        "\n",
        "x = ['Age', 'YearsAtCompany', 'TotalWorkingYears', 'HourlyRate', 'DistanceFromHome', 'YearsInCurrentRole', 'YearsWithCurrManager', 'YearsWithCurrManager', 'YearsSinceLastPromotion', 'PercentSalaryHike']\n",
        "\n",
        "# Create X_df using your selected columns\n",
        "X_df = attrition_df[x]\n",
        "\n",
        "# Show the data types for X_df\n",
        "X_df.dtypes\n"
      ]
    },
    {
      "cell_type": "code",
      "execution_count": 81,
      "metadata": {
        "id": "KaJfdOGUMHMR"
      },
      "outputs": [],
      "source": [
        "# Split the data into training and testing sets\n",
        "from sklearn.model_selection import train_test_split\n",
        "\n",
        "X_train, X_test, y_train, y_test = train_test_split(X_df, y_df, test_size=0.2, random_state=42)"
      ]
    },
    {
      "cell_type": "code",
      "execution_count": 82,
      "metadata": {
        "colab": {
          "base_uri": "https://localhost:8080/"
        },
        "id": "NYubUJqiLCSp",
        "outputId": "fd3489a9-2c88-43df-c06a-5502d179da55"
      },
      "outputs": [
        {
          "output_type": "execute_result",
          "data": {
            "text/plain": [
              "Age                        int64\n",
              "YearsAtCompany             int64\n",
              "TotalWorkingYears          int64\n",
              "HourlyRate                 int64\n",
              "DistanceFromHome           int64\n",
              "YearsInCurrentRole         int64\n",
              "YearsWithCurrManager       int64\n",
              "YearsWithCurrManager       int64\n",
              "YearsSinceLastPromotion    int64\n",
              "PercentSalaryHike          int64\n",
              "dtype: object"
            ]
          },
          "metadata": {},
          "execution_count": 82
        }
      ],
      "source": [
        "# Convert your X data to numeric data types however you see fit\n",
        "# Add new code cells as necessary\n",
        "X_train.dtypes"
      ]
    },
    {
      "cell_type": "code",
      "execution_count": 69,
      "metadata": {
        "id": "EWA-aIA5Gc3T"
      },
      "outputs": [],
      "source": [
        "# Create a StandardScaler\n",
        "scaler = StandardScaler()\n",
        "\n",
        "# Fit the StandardScaler to the training data\n",
        "X_scaler = scaler.fit(X_train)\n",
        "\n",
        "# Scale the training and testing data\n",
        "X_train_scaled = X_scaler.transform(X_train)\n",
        "X_test_scaled = X_scaler.transform(X_test)"
      ]
    },
    {
      "cell_type": "code",
      "execution_count": 83,
      "metadata": {
        "colab": {
          "base_uri": "https://localhost:8080/"
        },
        "id": "-z0Mky8vQSz4",
        "outputId": "19901730-dc5d-4578-c97d-f81fec2cfe4c"
      },
      "outputs": [
        {
          "output_type": "execute_result",
          "data": {
            "text/plain": [
              "array([[0., 1., 0.],\n",
              "       [0., 1., 0.],\n",
              "       [0., 0., 1.],\n",
              "       ...,\n",
              "       [0., 1., 0.],\n",
              "       [0., 1., 0.],\n",
              "       [0., 0., 1.]])"
            ]
          },
          "metadata": {},
          "execution_count": 83
        }
      ],
      "source": [
        "# Create a OneHotEncoder for the Department column\n",
        "department_encoder = OneHotEncoder(sparse_output=False)\n",
        "\n",
        "# Fit the encoder to the training data\n",
        "y_department_train_encoded = department_encoder.fit_transform(y_train[['Department']])\n",
        "y_department_test_encoded = department_encoder.transform(y_test[['Department']])\n",
        "\n",
        "# Create two new variables by applying the encoder\n",
        "# to the training and testing data\n",
        "department_coulumns = department_encoder.get_feature_names_out(['Department'])\n",
        "df_department_encoded = pd.DataFrame(y_department_train_encoded, columns=department_coulumns)\n",
        "y_department_train_encoded"
      ]
    },
    {
      "cell_type": "code",
      "execution_count": 84,
      "metadata": {
        "colab": {
          "base_uri": "https://localhost:8080/"
        },
        "id": "-G4DSpvFRrk4",
        "outputId": "701d7441-b9a0-4ff9-f593-45f47eef0f33"
      },
      "outputs": [
        {
          "output_type": "execute_result",
          "data": {
            "text/plain": [
              "array([[1., 0.],\n",
              "       [1., 0.],\n",
              "       [1., 0.],\n",
              "       ...,\n",
              "       [0., 1.],\n",
              "       [1., 0.],\n",
              "       [1., 0.]])"
            ]
          },
          "metadata": {},
          "execution_count": 84
        }
      ],
      "source": [
        "# Create a OneHotEncoder for the Attrition column\n",
        "attrition_encoder = OneHotEncoder(sparse_output=False)\n",
        "\n",
        "# Fit the encoder to the training data\n",
        "y_attrition_train_encoded = attrition_encoder.fit_transform(y_train[['Attrition']])\n",
        "y_attrition_test_encoded = attrition_encoder.transform(y_test[['Attrition']])\n",
        "\n",
        "\n",
        "# Create two new variables by applying the encoder\n",
        "# to the training and testing data\n",
        "attrition_coulumns = attrition_encoder.get_feature_names_out(['Attrition'])\n",
        "df_attrition_encoded = pd.DataFrame(y_attrition_train_encoded, columns=attrition_coulumns)\n",
        "y_attrition_train_encoded\n"
      ]
    },
    {
      "cell_type": "code",
      "source": [
        "# Scale the features\n",
        "scaler = StandardScaler()\n",
        "X_train_scaled = scaler.fit_transform(X_train)\n",
        "X_test_scaled = scaler.transform(X_test)"
      ],
      "metadata": {
        "id": "kFq6uYLNm1A5"
      },
      "execution_count": 85,
      "outputs": []
    },
    {
      "cell_type": "markdown",
      "metadata": {
        "id": "ykNmu_WWGc3T"
      },
      "source": [
        "## Create, Compile, and Train the Model"
      ]
    },
    {
      "cell_type": "code",
      "execution_count": 106,
      "metadata": {
        "id": "WUptZqmSGc3T"
      },
      "outputs": [],
      "source": [
        "# Find the number of columns in the X training data\n",
        "nCols = X_train.shape[1]\n",
        "\n",
        "# Create the input layer\n",
        "input_layer = layers.Input(shape=(nCols,), name='input_features')\n",
        "\n",
        "# Create at least two shared layers\n",
        "shared_layer1 = layers.Dense(128, activation='relu')(input_layer)\n",
        "shared_layer2 = layers.Dense(64, activation='relu')(shared_layer1)"
      ]
    },
    {
      "cell_type": "code",
      "execution_count": 114,
      "metadata": {
        "id": "JukjTm2yTEqd"
      },
      "outputs": [],
      "source": [
        "# Create a branch for Department\n",
        "# with a hidden layer and an output layer\n",
        "\n",
        "\n",
        "# Create the hidden layer\n",
        "department_hidden = layers.Dense(16, activation='relu')(shared_layer2)\n",
        "\n",
        "# Create the output layer\n",
        "department_output = layers.Dense(y_department_train_encoded.shape[1], activation='sigmoid', name='department_output')(department_hidden)\n"
      ]
    },
    {
      "cell_type": "code",
      "execution_count": 116,
      "metadata": {
        "id": "9OqhUiOJUBkR"
      },
      "outputs": [],
      "source": [
        "# Create a branch for Attrition\n",
        "# with a hidden layer and an output layer\n",
        "\n",
        "# Create the hidden layer\n",
        "attrition__hidden = layers.Dense(16, activation='relu')(shared_layer2)\n",
        "\n",
        "# Create the output layer\n",
        "attrition_output = layers.Dense(y_attrition_train_encoded.shape[1], activation='sigmoid', name='attrition_output')(attrition__hidden)\n"
      ]
    },
    {
      "cell_type": "code",
      "execution_count": 117,
      "metadata": {
        "colab": {
          "base_uri": "https://localhost:8080/"
        },
        "id": "twmuejdxGc3T",
        "outputId": "e1ffd1a7-e3a1-482d-8fd1-008ab8d93762"
      },
      "outputs": [
        {
          "output_type": "stream",
          "name": "stdout",
          "text": [
            "Model: \"model_6\"\n",
            "__________________________________________________________________________________________________\n",
            " Layer (type)                Output Shape                 Param #   Connected to                  \n",
            "==================================================================================================\n",
            " input_features (InputLayer  [(None, 10)]                 0         []                            \n",
            " )                                                                                                \n",
            "                                                                                                  \n",
            " dense_21 (Dense)            (None, 128)                  1408      ['input_features[0][0]']      \n",
            "                                                                                                  \n",
            " dense_22 (Dense)            (None, 64)                   8256      ['dense_21[0][0]']            \n",
            "                                                                                                  \n",
            " dense_26 (Dense)            (None, 32)                   2080      ['dense_22[0][0]']            \n",
            "                                                                                                  \n",
            " dense_28 (Dense)            (None, 32)                   2080      ['dense_22[0][0]']            \n",
            "                                                                                                  \n",
            " department_output (Dense)   (None, 3)                    99        ['dense_26[0][0]']            \n",
            "                                                                                                  \n",
            " attrition_output (Dense)    (None, 2)                    66        ['dense_28[0][0]']            \n",
            "                                                                                                  \n",
            "==================================================================================================\n",
            "Total params: 13989 (54.64 KB)\n",
            "Trainable params: 13989 (54.64 KB)\n",
            "Non-trainable params: 0 (0.00 Byte)\n",
            "__________________________________________________________________________________________________\n"
          ]
        }
      ],
      "source": [
        "# Create the model\n",
        "model = Model(inputs=input_layer, outputs=[department_output, attrition_output])\n",
        "\n",
        "# Compile the model\n",
        "model.compile(optimizer='adam',\n",
        "              loss={'department_output': 'categorical_crossentropy', 'attrition_output': 'binary_crossentropy'},\n",
        "              metrics={'department_output': 'accuracy', 'attrition_output': 'accuracy'})\n",
        "\n",
        "# Summarize the model\n",
        "model.summary()"
      ]
    },
    {
      "cell_type": "code",
      "execution_count": 118,
      "metadata": {
        "colab": {
          "base_uri": "https://localhost:8080/"
        },
        "id": "c8oGy0dpGc3U",
        "outputId": "97b659a1-04f4-43f6-c242-693a31084a5d"
      },
      "outputs": [
        {
          "output_type": "stream",
          "name": "stdout",
          "text": [
            "Epoch 1/50\n",
            "37/37 [==============================] - 3s 14ms/step - loss: 1.4003 - department_output_loss: 0.8728 - attrition_output_loss: 0.5275 - department_output_accuracy: 0.6037 - attrition_output_accuracy: 0.7619 - val_loss: 1.1889 - val_department_output_loss: 0.8016 - val_attrition_output_loss: 0.3873 - val_department_output_accuracy: 0.6259 - val_attrition_output_accuracy: 0.8673\n",
            "Epoch 2/50\n",
            "37/37 [==============================] - 0s 7ms/step - loss: 1.1933 - department_output_loss: 0.7592 - attrition_output_loss: 0.4340 - department_output_accuracy: 0.6480 - attrition_output_accuracy: 0.8316 - val_loss: 1.1595 - val_department_output_loss: 0.7790 - val_attrition_output_loss: 0.3804 - val_department_output_accuracy: 0.6633 - val_attrition_output_accuracy: 0.8673\n",
            "Epoch 3/50\n",
            "37/37 [==============================] - 0s 8ms/step - loss: 1.1499 - department_output_loss: 0.7385 - attrition_output_loss: 0.4114 - department_output_accuracy: 0.6548 - attrition_output_accuracy: 0.8325 - val_loss: 1.1638 - val_department_output_loss: 0.7835 - val_attrition_output_loss: 0.3803 - val_department_output_accuracy: 0.6463 - val_attrition_output_accuracy: 0.8673\n",
            "Epoch 4/50\n",
            "37/37 [==============================] - 0s 7ms/step - loss: 1.1164 - department_output_loss: 0.7211 - attrition_output_loss: 0.3952 - department_output_accuracy: 0.6556 - attrition_output_accuracy: 0.8367 - val_loss: 1.1609 - val_department_output_loss: 0.7885 - val_attrition_output_loss: 0.3724 - val_department_output_accuracy: 0.6599 - val_attrition_output_accuracy: 0.8673\n",
            "Epoch 5/50\n",
            "37/37 [==============================] - 0s 7ms/step - loss: 1.0907 - department_output_loss: 0.7062 - attrition_output_loss: 0.3845 - department_output_accuracy: 0.6718 - attrition_output_accuracy: 0.8427 - val_loss: 1.1683 - val_department_output_loss: 0.7967 - val_attrition_output_loss: 0.3716 - val_department_output_accuracy: 0.6599 - val_attrition_output_accuracy: 0.8639\n",
            "Epoch 6/50\n",
            "37/37 [==============================] - 0s 7ms/step - loss: 1.0705 - department_output_loss: 0.6940 - attrition_output_loss: 0.3765 - department_output_accuracy: 0.6820 - attrition_output_accuracy: 0.8418 - val_loss: 1.1670 - val_department_output_loss: 0.7921 - val_attrition_output_loss: 0.3749 - val_department_output_accuracy: 0.6531 - val_attrition_output_accuracy: 0.8673\n",
            "Epoch 7/50\n",
            "37/37 [==============================] - 0s 8ms/step - loss: 1.0489 - department_output_loss: 0.6785 - attrition_output_loss: 0.3703 - department_output_accuracy: 0.6913 - attrition_output_accuracy: 0.8410 - val_loss: 1.1769 - val_department_output_loss: 0.8022 - val_attrition_output_loss: 0.3747 - val_department_output_accuracy: 0.6565 - val_attrition_output_accuracy: 0.8707\n",
            "Epoch 8/50\n",
            "37/37 [==============================] - 0s 7ms/step - loss: 1.0367 - department_output_loss: 0.6708 - attrition_output_loss: 0.3659 - department_output_accuracy: 0.6862 - attrition_output_accuracy: 0.8452 - val_loss: 1.1776 - val_department_output_loss: 0.8096 - val_attrition_output_loss: 0.3680 - val_department_output_accuracy: 0.6224 - val_attrition_output_accuracy: 0.8741\n",
            "Epoch 9/50\n",
            "37/37 [==============================] - 0s 8ms/step - loss: 1.0126 - department_output_loss: 0.6544 - attrition_output_loss: 0.3582 - department_output_accuracy: 0.7015 - attrition_output_accuracy: 0.8461 - val_loss: 1.1889 - val_department_output_loss: 0.8138 - val_attrition_output_loss: 0.3751 - val_department_output_accuracy: 0.6361 - val_attrition_output_accuracy: 0.8639\n",
            "Epoch 10/50\n",
            "37/37 [==============================] - 0s 8ms/step - loss: 0.9931 - department_output_loss: 0.6431 - attrition_output_loss: 0.3500 - department_output_accuracy: 0.7083 - attrition_output_accuracy: 0.8478 - val_loss: 1.1874 - val_department_output_loss: 0.8161 - val_attrition_output_loss: 0.3714 - val_department_output_accuracy: 0.6599 - val_attrition_output_accuracy: 0.8673\n",
            "Epoch 11/50\n",
            "37/37 [==============================] - 0s 8ms/step - loss: 0.9793 - department_output_loss: 0.6364 - attrition_output_loss: 0.3429 - department_output_accuracy: 0.7075 - attrition_output_accuracy: 0.8563 - val_loss: 1.2072 - val_department_output_loss: 0.8398 - val_attrition_output_loss: 0.3674 - val_department_output_accuracy: 0.6190 - val_attrition_output_accuracy: 0.8707\n",
            "Epoch 12/50\n",
            "37/37 [==============================] - 0s 7ms/step - loss: 0.9595 - department_output_loss: 0.6203 - attrition_output_loss: 0.3392 - department_output_accuracy: 0.7177 - attrition_output_accuracy: 0.8529 - val_loss: 1.2168 - val_department_output_loss: 0.8467 - val_attrition_output_loss: 0.3700 - val_department_output_accuracy: 0.6293 - val_attrition_output_accuracy: 0.8673\n",
            "Epoch 13/50\n",
            "37/37 [==============================] - 0s 8ms/step - loss: 0.9457 - department_output_loss: 0.6138 - attrition_output_loss: 0.3319 - department_output_accuracy: 0.7185 - attrition_output_accuracy: 0.8631 - val_loss: 1.2216 - val_department_output_loss: 0.8509 - val_attrition_output_loss: 0.3707 - val_department_output_accuracy: 0.6190 - val_attrition_output_accuracy: 0.8639\n",
            "Epoch 14/50\n",
            "37/37 [==============================] - 0s 8ms/step - loss: 0.9361 - department_output_loss: 0.6031 - attrition_output_loss: 0.3330 - department_output_accuracy: 0.7398 - attrition_output_accuracy: 0.8554 - val_loss: 1.2436 - val_department_output_loss: 0.8665 - val_attrition_output_loss: 0.3770 - val_department_output_accuracy: 0.6565 - val_attrition_output_accuracy: 0.8503\n",
            "Epoch 15/50\n",
            "37/37 [==============================] - 0s 7ms/step - loss: 0.9291 - department_output_loss: 0.6003 - attrition_output_loss: 0.3289 - department_output_accuracy: 0.7304 - attrition_output_accuracy: 0.8580 - val_loss: 1.2762 - val_department_output_loss: 0.9030 - val_attrition_output_loss: 0.3732 - val_department_output_accuracy: 0.5850 - val_attrition_output_accuracy: 0.8605\n",
            "Epoch 16/50\n",
            "37/37 [==============================] - 0s 8ms/step - loss: 0.9126 - department_output_loss: 0.5876 - attrition_output_loss: 0.3251 - department_output_accuracy: 0.7347 - attrition_output_accuracy: 0.8588 - val_loss: 1.2661 - val_department_output_loss: 0.8771 - val_attrition_output_loss: 0.3890 - val_department_output_accuracy: 0.6599 - val_attrition_output_accuracy: 0.8776\n",
            "Epoch 17/50\n",
            "37/37 [==============================] - 0s 8ms/step - loss: 0.8960 - department_output_loss: 0.5708 - attrition_output_loss: 0.3252 - department_output_accuracy: 0.7534 - attrition_output_accuracy: 0.8580 - val_loss: 1.2689 - val_department_output_loss: 0.8871 - val_attrition_output_loss: 0.3818 - val_department_output_accuracy: 0.6156 - val_attrition_output_accuracy: 0.8537\n",
            "Epoch 18/50\n",
            "37/37 [==============================] - 0s 7ms/step - loss: 0.8770 - department_output_loss: 0.5625 - attrition_output_loss: 0.3145 - department_output_accuracy: 0.7526 - attrition_output_accuracy: 0.8673 - val_loss: 1.2688 - val_department_output_loss: 0.8893 - val_attrition_output_loss: 0.3795 - val_department_output_accuracy: 0.6122 - val_attrition_output_accuracy: 0.8605\n",
            "Epoch 19/50\n",
            "37/37 [==============================] - 0s 7ms/step - loss: 0.8650 - department_output_loss: 0.5539 - attrition_output_loss: 0.3112 - department_output_accuracy: 0.7568 - attrition_output_accuracy: 0.8707 - val_loss: 1.3313 - val_department_output_loss: 0.9516 - val_attrition_output_loss: 0.3798 - val_department_output_accuracy: 0.5782 - val_attrition_output_accuracy: 0.8571\n",
            "Epoch 20/50\n",
            "37/37 [==============================] - 0s 8ms/step - loss: 0.8573 - department_output_loss: 0.5482 - attrition_output_loss: 0.3090 - department_output_accuracy: 0.7568 - attrition_output_accuracy: 0.8690 - val_loss: 1.3084 - val_department_output_loss: 0.9221 - val_attrition_output_loss: 0.3863 - val_department_output_accuracy: 0.6599 - val_attrition_output_accuracy: 0.8537\n",
            "Epoch 21/50\n",
            "37/37 [==============================] - 0s 7ms/step - loss: 0.8317 - department_output_loss: 0.5313 - attrition_output_loss: 0.3004 - department_output_accuracy: 0.7772 - attrition_output_accuracy: 0.8648 - val_loss: 1.3009 - val_department_output_loss: 0.9116 - val_attrition_output_loss: 0.3893 - val_department_output_accuracy: 0.6327 - val_attrition_output_accuracy: 0.8673\n",
            "Epoch 22/50\n",
            "37/37 [==============================] - 0s 7ms/step - loss: 0.8275 - department_output_loss: 0.5274 - attrition_output_loss: 0.3001 - department_output_accuracy: 0.7781 - attrition_output_accuracy: 0.8707 - val_loss: 1.3096 - val_department_output_loss: 0.9279 - val_attrition_output_loss: 0.3818 - val_department_output_accuracy: 0.6190 - val_attrition_output_accuracy: 0.8605\n",
            "Epoch 23/50\n",
            "37/37 [==============================] - 0s 9ms/step - loss: 0.8087 - department_output_loss: 0.5154 - attrition_output_loss: 0.2933 - department_output_accuracy: 0.7764 - attrition_output_accuracy: 0.8707 - val_loss: 1.3486 - val_department_output_loss: 0.9581 - val_attrition_output_loss: 0.3905 - val_department_output_accuracy: 0.6293 - val_attrition_output_accuracy: 0.8537\n",
            "Epoch 24/50\n",
            "37/37 [==============================] - 0s 11ms/step - loss: 0.7990 - department_output_loss: 0.5119 - attrition_output_loss: 0.2870 - department_output_accuracy: 0.7721 - attrition_output_accuracy: 0.8741 - val_loss: 1.3620 - val_department_output_loss: 0.9580 - val_attrition_output_loss: 0.4040 - val_department_output_accuracy: 0.6156 - val_attrition_output_accuracy: 0.8503\n",
            "Epoch 25/50\n",
            "37/37 [==============================] - 0s 10ms/step - loss: 0.7846 - department_output_loss: 0.4982 - attrition_output_loss: 0.2864 - department_output_accuracy: 0.7900 - attrition_output_accuracy: 0.8810 - val_loss: 1.4463 - val_department_output_loss: 1.0527 - val_attrition_output_loss: 0.3936 - val_department_output_accuracy: 0.6463 - val_attrition_output_accuracy: 0.8605\n",
            "Epoch 26/50\n",
            "37/37 [==============================] - 0s 10ms/step - loss: 0.7903 - department_output_loss: 0.4997 - attrition_output_loss: 0.2905 - department_output_accuracy: 0.7823 - attrition_output_accuracy: 0.8801 - val_loss: 1.3980 - val_department_output_loss: 0.9876 - val_attrition_output_loss: 0.4104 - val_department_output_accuracy: 0.6395 - val_attrition_output_accuracy: 0.8333\n",
            "Epoch 27/50\n",
            "37/37 [==============================] - 0s 11ms/step - loss: 0.7685 - department_output_loss: 0.4856 - attrition_output_loss: 0.2830 - department_output_accuracy: 0.7934 - attrition_output_accuracy: 0.8784 - val_loss: 1.3724 - val_department_output_loss: 0.9766 - val_attrition_output_loss: 0.3958 - val_department_output_accuracy: 0.6293 - val_attrition_output_accuracy: 0.8503\n",
            "Epoch 28/50\n",
            "37/37 [==============================] - 0s 11ms/step - loss: 0.7468 - department_output_loss: 0.4717 - attrition_output_loss: 0.2750 - department_output_accuracy: 0.7968 - attrition_output_accuracy: 0.8818 - val_loss: 1.4287 - val_department_output_loss: 1.0190 - val_attrition_output_loss: 0.4097 - val_department_output_accuracy: 0.5442 - val_attrition_output_accuracy: 0.8469\n",
            "Epoch 29/50\n",
            "37/37 [==============================] - 0s 8ms/step - loss: 0.7594 - department_output_loss: 0.4846 - attrition_output_loss: 0.2747 - department_output_accuracy: 0.7815 - attrition_output_accuracy: 0.8869 - val_loss: 1.4390 - val_department_output_loss: 1.0376 - val_attrition_output_loss: 0.4013 - val_department_output_accuracy: 0.5918 - val_attrition_output_accuracy: 0.8571\n",
            "Epoch 30/50\n",
            "37/37 [==============================] - 0s 7ms/step - loss: 0.7491 - department_output_loss: 0.4698 - attrition_output_loss: 0.2794 - department_output_accuracy: 0.7874 - attrition_output_accuracy: 0.8801 - val_loss: 1.4665 - val_department_output_loss: 1.0494 - val_attrition_output_loss: 0.4171 - val_department_output_accuracy: 0.5544 - val_attrition_output_accuracy: 0.8333\n",
            "Epoch 31/50\n",
            "37/37 [==============================] - 0s 8ms/step - loss: 0.7333 - department_output_loss: 0.4646 - attrition_output_loss: 0.2687 - department_output_accuracy: 0.8104 - attrition_output_accuracy: 0.8878 - val_loss: 1.4392 - val_department_output_loss: 1.0302 - val_attrition_output_loss: 0.4090 - val_department_output_accuracy: 0.6122 - val_attrition_output_accuracy: 0.8605\n",
            "Epoch 32/50\n",
            "37/37 [==============================] - 0s 7ms/step - loss: 0.7267 - department_output_loss: 0.4501 - attrition_output_loss: 0.2766 - department_output_accuracy: 0.8053 - attrition_output_accuracy: 0.8776 - val_loss: 1.4741 - val_department_output_loss: 1.0474 - val_attrition_output_loss: 0.4267 - val_department_output_accuracy: 0.5884 - val_attrition_output_accuracy: 0.8333\n",
            "Epoch 33/50\n",
            "37/37 [==============================] - 0s 7ms/step - loss: 0.7151 - department_output_loss: 0.4475 - attrition_output_loss: 0.2676 - department_output_accuracy: 0.8095 - attrition_output_accuracy: 0.8861 - val_loss: 1.5010 - val_department_output_loss: 1.0875 - val_attrition_output_loss: 0.4136 - val_department_output_accuracy: 0.5748 - val_attrition_output_accuracy: 0.8537\n",
            "Epoch 34/50\n",
            "37/37 [==============================] - 0s 7ms/step - loss: 0.6838 - department_output_loss: 0.4249 - attrition_output_loss: 0.2590 - department_output_accuracy: 0.8104 - attrition_output_accuracy: 0.8912 - val_loss: 1.4797 - val_department_output_loss: 1.0530 - val_attrition_output_loss: 0.4267 - val_department_output_accuracy: 0.6020 - val_attrition_output_accuracy: 0.8435\n",
            "Epoch 35/50\n",
            "37/37 [==============================] - 0s 8ms/step - loss: 0.6825 - department_output_loss: 0.4249 - attrition_output_loss: 0.2576 - department_output_accuracy: 0.8172 - attrition_output_accuracy: 0.8903 - val_loss: 1.4830 - val_department_output_loss: 1.0660 - val_attrition_output_loss: 0.4171 - val_department_output_accuracy: 0.6020 - val_attrition_output_accuracy: 0.8503\n",
            "Epoch 36/50\n",
            "37/37 [==============================] - 0s 7ms/step - loss: 0.6613 - department_output_loss: 0.4114 - attrition_output_loss: 0.2499 - department_output_accuracy: 0.8248 - attrition_output_accuracy: 0.8920 - val_loss: 1.5223 - val_department_output_loss: 1.0941 - val_attrition_output_loss: 0.4282 - val_department_output_accuracy: 0.6259 - val_attrition_output_accuracy: 0.8537\n",
            "Epoch 37/50\n",
            "37/37 [==============================] - 0s 8ms/step - loss: 0.6595 - department_output_loss: 0.4105 - attrition_output_loss: 0.2490 - department_output_accuracy: 0.8214 - attrition_output_accuracy: 0.8971 - val_loss: 1.5797 - val_department_output_loss: 1.1543 - val_attrition_output_loss: 0.4253 - val_department_output_accuracy: 0.5544 - val_attrition_output_accuracy: 0.8537\n",
            "Epoch 38/50\n",
            "37/37 [==============================] - 0s 7ms/step - loss: 0.6466 - department_output_loss: 0.4054 - attrition_output_loss: 0.2413 - department_output_accuracy: 0.8299 - attrition_output_accuracy: 0.9014 - val_loss: 1.5901 - val_department_output_loss: 1.1375 - val_attrition_output_loss: 0.4526 - val_department_output_accuracy: 0.6054 - val_attrition_output_accuracy: 0.8537\n",
            "Epoch 39/50\n",
            "37/37 [==============================] - 0s 7ms/step - loss: 0.6398 - department_output_loss: 0.3924 - attrition_output_loss: 0.2474 - department_output_accuracy: 0.8384 - attrition_output_accuracy: 0.8954 - val_loss: 1.5867 - val_department_output_loss: 1.1362 - val_attrition_output_loss: 0.4505 - val_department_output_accuracy: 0.6259 - val_attrition_output_accuracy: 0.8435\n",
            "Epoch 40/50\n",
            "37/37 [==============================] - 0s 7ms/step - loss: 0.6398 - department_output_loss: 0.3925 - attrition_output_loss: 0.2473 - department_output_accuracy: 0.8376 - attrition_output_accuracy: 0.8954 - val_loss: 1.5785 - val_department_output_loss: 1.1318 - val_attrition_output_loss: 0.4467 - val_department_output_accuracy: 0.6224 - val_attrition_output_accuracy: 0.8673\n",
            "Epoch 41/50\n",
            "37/37 [==============================] - 0s 7ms/step - loss: 0.6208 - department_output_loss: 0.3826 - attrition_output_loss: 0.2382 - department_output_accuracy: 0.8342 - attrition_output_accuracy: 0.8946 - val_loss: 1.5827 - val_department_output_loss: 1.1529 - val_attrition_output_loss: 0.4298 - val_department_output_accuracy: 0.6122 - val_attrition_output_accuracy: 0.8435\n",
            "Epoch 42/50\n",
            "37/37 [==============================] - 0s 7ms/step - loss: 0.6046 - department_output_loss: 0.3729 - attrition_output_loss: 0.2317 - department_output_accuracy: 0.8469 - attrition_output_accuracy: 0.8929 - val_loss: 1.6021 - val_department_output_loss: 1.1507 - val_attrition_output_loss: 0.4514 - val_department_output_accuracy: 0.5986 - val_attrition_output_accuracy: 0.8401\n",
            "Epoch 43/50\n",
            "37/37 [==============================] - 0s 7ms/step - loss: 0.5930 - department_output_loss: 0.3634 - attrition_output_loss: 0.2296 - department_output_accuracy: 0.8452 - attrition_output_accuracy: 0.9005 - val_loss: 1.6589 - val_department_output_loss: 1.1920 - val_attrition_output_loss: 0.4669 - val_department_output_accuracy: 0.6429 - val_attrition_output_accuracy: 0.8571\n",
            "Epoch 44/50\n",
            "37/37 [==============================] - 0s 13ms/step - loss: 0.5883 - department_output_loss: 0.3552 - attrition_output_loss: 0.2331 - department_output_accuracy: 0.8580 - attrition_output_accuracy: 0.8963 - val_loss: 1.6753 - val_department_output_loss: 1.2114 - val_attrition_output_loss: 0.4639 - val_department_output_accuracy: 0.5816 - val_attrition_output_accuracy: 0.8197\n",
            "Epoch 45/50\n",
            "37/37 [==============================] - 0s 7ms/step - loss: 0.5784 - department_output_loss: 0.3540 - attrition_output_loss: 0.2244 - department_output_accuracy: 0.8614 - attrition_output_accuracy: 0.9090 - val_loss: 1.7003 - val_department_output_loss: 1.2406 - val_attrition_output_loss: 0.4596 - val_department_output_accuracy: 0.6327 - val_attrition_output_accuracy: 0.8435\n",
            "Epoch 46/50\n",
            "37/37 [==============================] - 0s 8ms/step - loss: 0.5787 - department_output_loss: 0.3567 - attrition_output_loss: 0.2220 - department_output_accuracy: 0.8495 - attrition_output_accuracy: 0.9065 - val_loss: 1.6854 - val_department_output_loss: 1.2241 - val_attrition_output_loss: 0.4613 - val_department_output_accuracy: 0.6122 - val_attrition_output_accuracy: 0.8231\n",
            "Epoch 47/50\n",
            "37/37 [==============================] - 0s 8ms/step - loss: 0.5593 - department_output_loss: 0.3442 - attrition_output_loss: 0.2152 - department_output_accuracy: 0.8554 - attrition_output_accuracy: 0.9090 - val_loss: 1.7665 - val_department_output_loss: 1.2726 - val_attrition_output_loss: 0.4939 - val_department_output_accuracy: 0.5782 - val_attrition_output_accuracy: 0.8095\n",
            "Epoch 48/50\n",
            "37/37 [==============================] - 0s 8ms/step - loss: 0.5690 - department_output_loss: 0.3429 - attrition_output_loss: 0.2261 - department_output_accuracy: 0.8707 - attrition_output_accuracy: 0.9022 - val_loss: 1.7698 - val_department_output_loss: 1.2935 - val_attrition_output_loss: 0.4763 - val_department_output_accuracy: 0.5476 - val_attrition_output_accuracy: 0.8401\n",
            "Epoch 49/50\n",
            "37/37 [==============================] - 0s 8ms/step - loss: 0.5645 - department_output_loss: 0.3414 - attrition_output_loss: 0.2231 - department_output_accuracy: 0.8597 - attrition_output_accuracy: 0.9014 - val_loss: 1.7742 - val_department_output_loss: 1.2965 - val_attrition_output_loss: 0.4778 - val_department_output_accuracy: 0.6224 - val_attrition_output_accuracy: 0.8265\n",
            "Epoch 50/50\n",
            "37/37 [==============================] - 0s 7ms/step - loss: 0.5357 - department_output_loss: 0.3260 - attrition_output_loss: 0.2097 - department_output_accuracy: 0.8631 - attrition_output_accuracy: 0.9141 - val_loss: 1.7854 - val_department_output_loss: 1.3080 - val_attrition_output_loss: 0.4775 - val_department_output_accuracy: 0.6395 - val_attrition_output_accuracy: 0.8435\n"
          ]
        },
        {
          "output_type": "execute_result",
          "data": {
            "text/plain": [
              "<keras.src.callbacks.History at 0x7db34711a740>"
            ]
          },
          "metadata": {},
          "execution_count": 118
        }
      ],
      "source": [
        "# Train the model\n",
        "model.fit(\n",
        "    X_train_scaled,\n",
        "    {'department_output': y_department_train_encoded, 'attrition_output': y_attrition_train_encoded},\n",
        "    validation_data=(X_test_scaled, {'department_output': y_department_test_encoded, 'attrition_output': y_attrition_test_encoded}),\n",
        "    epochs=50,\n",
        "    batch_size=32,\n",
        "    validation_split=0.2\n",
        ")\n",
        "\n",
        "\n",
        "\n"
      ]
    },
    {
      "cell_type": "code",
      "execution_count": 119,
      "metadata": {
        "colab": {
          "base_uri": "https://localhost:8080/"
        },
        "id": "VsMoaQlgGc3U",
        "outputId": "6c95f944-2756-4334-b9de-92096b6feef5"
      },
      "outputs": [
        {
          "output_type": "stream",
          "name": "stdout",
          "text": [
            "10/10 [==============================] - 0s 3ms/step - loss: 1.7854 - department_output_loss: 1.3080 - attrition_output_loss: 0.4775 - department_output_accuracy: 0.6395 - attrition_output_accuracy: 0.8435\n"
          ]
        }
      ],
      "source": [
        "# Evaluate the model with the testing data\n",
        "test_results = model.evaluate(\n",
        "    X_test_scaled,\n",
        "    {'department_output': y_department_test_encoded, 'attrition_output': y_attrition_test_encoded}\n",
        ")"
      ]
    },
    {
      "cell_type": "code",
      "execution_count": 120,
      "metadata": {
        "colab": {
          "base_uri": "https://localhost:8080/"
        },
        "id": "ZlCtlHi0Vt54",
        "outputId": "e9ec0fe5-4195-437c-9cef-8518f404d505"
      },
      "outputs": [
        {
          "output_type": "stream",
          "name": "stdout",
          "text": [
            "Total Loss: 1.7854392528533936,\n",
            "Department Loss: 1.3079628944396973, Attrition Loss: 0.4774762690067291,\n",
            "Department Accuracy: 0.6394557952880859, Attrition Accuracy: 0.8435373902320862\n"
          ]
        }
      ],
      "source": [
        "# Print the accuracy for both department and attrition\n",
        "print(f\"Total Loss: {test_results[0]},\\nDepartment Loss: {test_results[1]}, Attrition Loss: {test_results[2]},\\nDepartment Accuracy: {test_results[3]}, Attrition Accuracy: {test_results[4]}\")\n"
      ]
    },
    {
      "cell_type": "code",
      "source": [
        "# using hyperparameter tuning to try and get better results"
      ],
      "metadata": {
        "id": "mtD3nPrcxLGq"
      },
      "execution_count": null,
      "outputs": []
    },
    {
      "cell_type": "code",
      "source": [
        "#!pip install keras-tuner\n",
        "from tensorflow import keras\n",
        "from tensorflow.keras import layers\n",
        "from kerastuner.tuners import RandomSearch\n",
        "\n",
        "def build_model(hp):\n",
        "    input_layer = keras.Input(shape=(nCols,))  # nCols is the number of features\n",
        "\n",
        "    # Hyperparameter: Number of units in the first Dense layer\n",
        "    hp_units = hp.Int('units', min_value=32, max_value=512, step=32)\n",
        "    x = layers.Dense(units=hp_units, activation='relu')(input_layer)\n",
        "    x = layers.Dense(units=hp_units // 2, activation='relu')(x)\n",
        "\n",
        "\n",
        "    hp_dropout = hp.Float('dropout', min_value=0.0, max_value=0.5, step=0.1)\n",
        "    x = layers.Dropout(hp_dropout)(x)\n",
        "\n",
        "    # Hyperparameter for the learning rate\n",
        "    hp_learning_rate = hp.Choice('learning_rate', values=[1e-2, 1e-3, 1e-4])\n",
        "\n",
        "    # Output layers\n",
        "    department_output = layers.Dense(y_department_train_encoded.shape[1], activation='sigmoid', name='department_output')(x)\n",
        "    attrition_output = layers.Dense(y_attrition_train_encoded.shape[1], activation='sigmoid', name='attrition_output')(x)\n",
        "\n",
        "    # Construct the model\n",
        "    model = keras.Model(inputs=input_layer, outputs=[department_output, attrition_output])\n",
        "\n",
        "    model.compile(optimizer=keras.optimizers.Adam(learning_rate=hp_learning_rate),\n",
        "                  loss={'department_output': 'categorical_crossentropy', 'attrition_output': 'binary_crossentropy'},\n",
        "                  metrics={'department_output': 'accuracy', 'attrition_output': 'accuracy'})\n",
        "\n",
        "    return model\n",
        "\n"
      ],
      "metadata": {
        "id": "LyT1WKH4u9Yk"
      },
      "execution_count": 148,
      "outputs": []
    },
    {
      "cell_type": "code",
      "source": [
        "tuner = RandomSearch(\n",
        "    build_model,\n",
        "    objective='val_loss',\n",
        "    max_trials=10,\n",
        "    executions_per_trial=1,\n",
        "    directory='my_dir',\n",
        "    project_name='hparam_tuning'\n",
        ")\n",
        "\n",
        "# Early stop callback to prevent overfitting\n",
        "stop_early = keras.callbacks.EarlyStopping(monitor='val_loss', patience=5)\n",
        "\n",
        "tuner.search(X_train_scaled, {'department_output': y_department_train_encoded, 'attrition_output': y_attrition_train_encoded},\n",
        "             epochs=50, validation_split=0.2, callbacks=[stop_early])"
      ],
      "metadata": {
        "colab": {
          "base_uri": "https://localhost:8080/"
        },
        "id": "41OUKQO2vAPk",
        "outputId": "856fb91c-e5a4-4644-cbc6-a5542aac89a2"
      },
      "execution_count": 149,
      "outputs": [
        {
          "output_type": "stream",
          "name": "stdout",
          "text": [
            "Reloading Tuner from my_dir/hparam_tuning/tuner0.json\n"
          ]
        }
      ]
    },
    {
      "cell_type": "code",
      "source": [
        "# Get the optimal hyperparameters\n",
        "best_hps = tuner.get_best_hyperparameters(num_trials=1)[0]\n",
        "\n",
        "print(f\"\"\"\n",
        "The hyperparameter search is complete. The optimal number of units in the first densely-connected\n",
        "layer is {best_hps.get('units')} and the optimal learning rate for the optimizer\n",
        "is {best_hps.get('learning_rate')}.\n",
        "\"\"\")\n",
        "\n",
        "# Build the model with the optimal hyperparameters and train it on the data\n",
        "model = tuner.hypermodel.build(best_hps)\n",
        "history = model.fit(X_train_scaled, {'department_output': y_department_train_encoded, 'attrition_output': y_attrition_train_encoded},\n",
        "                    epochs=10, validation_split=0.25)\n"
      ],
      "metadata": {
        "colab": {
          "base_uri": "https://localhost:8080/"
        },
        "id": "plluoNnJvD9Q",
        "outputId": "3e7daab7-f5cd-4c22-9cff-bb8ffdac325b"
      },
      "execution_count": 152,
      "outputs": [
        {
          "output_type": "stream",
          "name": "stdout",
          "text": [
            "\n",
            "The hyperparameter search is complete. The optimal number of units in the first densely-connected\n",
            "layer is 416 and the optimal learning rate for the optimizer\n",
            "is 0.001.\n",
            "\n",
            "Epoch 1/10\n",
            "28/28 [==============================] - 2s 16ms/step - loss: 1.3403 - department_output_loss: 0.8370 - attrition_output_loss: 0.5033 - department_output_accuracy: 0.6168 - attrition_output_accuracy: 0.8186 - val_loss: 1.3265 - val_department_output_loss: 0.8163 - val_attrition_output_loss: 0.5102 - val_department_output_accuracy: 0.6327 - val_attrition_output_accuracy: 0.8027\n",
            "Epoch 2/10\n",
            "28/28 [==============================] - 0s 7ms/step - loss: 1.2009 - department_output_loss: 0.7638 - attrition_output_loss: 0.4371 - department_output_accuracy: 0.6587 - attrition_output_accuracy: 0.8413 - val_loss: 1.2955 - val_department_output_loss: 0.8026 - val_attrition_output_loss: 0.4928 - val_department_output_accuracy: 0.6190 - val_attrition_output_accuracy: 0.8027\n",
            "Epoch 3/10\n",
            "28/28 [==============================] - 0s 7ms/step - loss: 1.1763 - department_output_loss: 0.7541 - attrition_output_loss: 0.4222 - department_output_accuracy: 0.6587 - attrition_output_accuracy: 0.8413 - val_loss: 1.2978 - val_department_output_loss: 0.8162 - val_attrition_output_loss: 0.4816 - val_department_output_accuracy: 0.6190 - val_attrition_output_accuracy: 0.8027\n",
            "Epoch 4/10\n",
            "28/28 [==============================] - 0s 7ms/step - loss: 1.1674 - department_output_loss: 0.7549 - attrition_output_loss: 0.4124 - department_output_accuracy: 0.6508 - attrition_output_accuracy: 0.8413 - val_loss: 1.3122 - val_department_output_loss: 0.8293 - val_attrition_output_loss: 0.4829 - val_department_output_accuracy: 0.5816 - val_attrition_output_accuracy: 0.8027\n",
            "Epoch 5/10\n",
            "28/28 [==============================] - 0s 6ms/step - loss: 1.1399 - department_output_loss: 0.7334 - attrition_output_loss: 0.4065 - department_output_accuracy: 0.6644 - attrition_output_accuracy: 0.8413 - val_loss: 1.3182 - val_department_output_loss: 0.8289 - val_attrition_output_loss: 0.4893 - val_department_output_accuracy: 0.6327 - val_attrition_output_accuracy: 0.8027\n",
            "Epoch 6/10\n",
            "28/28 [==============================] - 0s 7ms/step - loss: 1.1301 - department_output_loss: 0.7290 - attrition_output_loss: 0.4012 - department_output_accuracy: 0.6542 - attrition_output_accuracy: 0.8413 - val_loss: 1.3074 - val_department_output_loss: 0.8243 - val_attrition_output_loss: 0.4832 - val_department_output_accuracy: 0.6224 - val_attrition_output_accuracy: 0.8027\n",
            "Epoch 7/10\n",
            "28/28 [==============================] - 0s 6ms/step - loss: 1.1150 - department_output_loss: 0.7179 - attrition_output_loss: 0.3971 - department_output_accuracy: 0.6576 - attrition_output_accuracy: 0.8413 - val_loss: 1.3118 - val_department_output_loss: 0.8301 - val_attrition_output_loss: 0.4817 - val_department_output_accuracy: 0.6224 - val_attrition_output_accuracy: 0.8061\n",
            "Epoch 8/10\n",
            "28/28 [==============================] - 0s 7ms/step - loss: 1.1073 - department_output_loss: 0.7131 - attrition_output_loss: 0.3942 - department_output_accuracy: 0.6712 - attrition_output_accuracy: 0.8458 - val_loss: 1.3158 - val_department_output_loss: 0.8352 - val_attrition_output_loss: 0.4806 - val_department_output_accuracy: 0.6190 - val_attrition_output_accuracy: 0.8095\n",
            "Epoch 9/10\n",
            "28/28 [==============================] - 0s 7ms/step - loss: 1.1038 - department_output_loss: 0.7128 - attrition_output_loss: 0.3910 - department_output_accuracy: 0.6723 - attrition_output_accuracy: 0.8447 - val_loss: 1.3164 - val_department_output_loss: 0.8318 - val_attrition_output_loss: 0.4845 - val_department_output_accuracy: 0.6327 - val_attrition_output_accuracy: 0.8095\n",
            "Epoch 10/10\n",
            "28/28 [==============================] - 0s 6ms/step - loss: 1.0894 - department_output_loss: 0.7002 - attrition_output_loss: 0.3893 - department_output_accuracy: 0.6837 - attrition_output_accuracy: 0.8424 - val_loss: 1.3307 - val_department_output_loss: 0.8464 - val_attrition_output_loss: 0.4843 - val_department_output_accuracy: 0.6122 - val_attrition_output_accuracy: 0.8095\n"
          ]
        }
      ]
    },
    {
      "cell_type": "code",
      "source": [
        "# Evaluate the model on the test data\n",
        "test_results = model.evaluate(\n",
        "    X_test_scaled,\n",
        "    {'department_output': y_department_test_encoded, 'attrition_output': y_attrition_test_encoded}\n",
        ")\n",
        "\n",
        "total_loss, department_loss, attrition_loss, department_accuracy, attrition_accuracy = test_results\n",
        "\n",
        "print(f\"Total Loss: {total_loss}\")\n",
        "print(f\"Department Loss: {department_loss}, Attrition Loss: {attrition_loss}\")\n",
        "print(f\"Department Accuracy: {department_accuracy}, Attrition Accuracy: {attrition_accuracy}\")\n"
      ],
      "metadata": {
        "colab": {
          "base_uri": "https://localhost:8080/"
        },
        "id": "jB0V5tq9wwLR",
        "outputId": "214466e8-255a-41ff-d627-ebc5570d33c2"
      },
      "execution_count": 153,
      "outputs": [
        {
          "output_type": "stream",
          "name": "stdout",
          "text": [
            "10/10 [==============================] - 0s 4ms/step - loss: 1.2005 - department_output_loss: 0.8101 - attrition_output_loss: 0.3904 - department_output_accuracy: 0.6599 - attrition_output_accuracy: 0.8673\n",
            "Total Loss: 1.2005345821380615\n",
            "Department Loss: 0.8101191520690918, Attrition Loss: 0.39041534066200256\n",
            "Department Accuracy: 0.6598639488220215, Attrition Accuracy: 0.8673469424247742\n"
          ]
        }
      ]
    },
    {
      "cell_type": "markdown",
      "metadata": {
        "id": "eGSyfsZfWOQM"
      },
      "source": [
        "# Summary\n",
        "\n",
        "In the provided space below, briefly answer the following questions.\n",
        "\n",
        "1. Is accuracy the best metric to use on this data? Why or why not?\n",
        "\n",
        "2. What activation functions did you choose for your output layers, and why?\n",
        "\n",
        "3. Can you name a few ways that this model might be improved?"
      ]
    },
    {
      "cell_type": "markdown",
      "metadata": {
        "id": "pi9SLpFnWvbF"
      },
      "source": [
        "YOUR ANSWERS HERE\n",
        "\n",
        "1. I think it depends on the domain knowledge of why we are analyxing the data in the first place, because for binary classification tasks like attrition prediction, metrics such as Precision, Recall, F1 Score, or AUC-ROC can provide more insight into the model's performance, especially regarding its ability to capture minority classes.\n",
        "2. Sigmoid performed better here, Im not 100% why yet, I just try them all to see which one produces best result.\n",
        "3. Feature Engineering: More informative features might help the model capture complex patterns in the data better. Hyperparameter Tuning. Data augmentation or additional Data.Alternative metrics."
      ]
    },
    {
      "cell_type": "markdown",
      "metadata": {
        "id": "9sBLvqN1WnFo"
      },
      "source": []
    }
  ],
  "metadata": {
    "colab": {
      "provenance": [],
      "gpuType": "T4"
    },
    "kernelspec": {
      "display_name": "Python 3",
      "name": "python3"
    },
    "language_info": {
      "codemirror_mode": {
        "name": "ipython",
        "version": 3
      },
      "file_extension": ".py",
      "mimetype": "text/x-python",
      "name": "python",
      "nbconvert_exporter": "python",
      "pygments_lexer": "ipython3",
      "version": "3.10.13"
    },
    "vscode": {
      "interpreter": {
        "hash": "31f2aee4e71d21fbe5cf8b01ff0e069b9275f58929596ceb00d14d90e3e16cd6"
      }
    },
    "accelerator": "GPU"
  },
  "nbformat": 4,
  "nbformat_minor": 0
}